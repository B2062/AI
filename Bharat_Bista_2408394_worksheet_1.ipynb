{
  "nbformat": 4,
  "nbformat_minor": 0,
  "metadata": {
    "colab": {
      "provenance": []
    },
    "kernelspec": {
      "name": "python3",
      "display_name": "Python 3"
    },
    "language_info": {
      "name": "python"
    }
  },
  "cells": [
    {
      "cell_type": "markdown",
      "source": [
        "Problem - 1: Array Creation"
      ],
      "metadata": {
        "id": "_wLlufIjJO7m"
      }
    },
    {
      "cell_type": "code",
      "source": [
        "import numpy as np\n",
        "# 1. Initialize an empty array with size 2*2\n",
        "empty_array = np.empty((2, 2))\n",
        "print(\"Empty Array (2*2):\\n\", empty_array)\n",
        "\n",
        "# 2. Initialize an all one array with size 4X2.\n",
        "ones_array = np.ones((4, 2))\n",
        "print(\"\\n All ones (4*2): \\n\", ones_array)\n",
        "\n",
        "# 3. Return a new array of given shape and type, filled with fill value.{Hint: np.full}\n",
        "fill_value = 3 #example fill value.\n",
        "shape = (3,3)\n",
        "filled_array = np.full(shape, fill_value)\n",
        "print(\"\\n Array filled Array (3*3): \\n\", filled_array)\n",
        "\n",
        "# 4. Return a new array of zeros with same shape and type as a given array.{Hint: np.zeros like}\n",
        "given_array = np.array([[1,2], [3,4]])\n",
        "zeros_like_array = np.zeros_like(given_array)\n",
        "print(\"\\n array of zeros with same shape and type as a given array : \\n\", zeros_like_array)\n",
        "\n",
        "# 5. Return a new array of ones with same shape and type as a given array.{Hint: np.ones like}\n",
        "ones_like_array = np.ones_like(given_array)\n",
        "print(\"\\n array of ones with same shape and type as a given array : \\n\", ones_like_array)\n",
        "\n",
        "# 6. For an existing list new_list = [1,2,3,4] convert to an numpy array.{Hint: np.array()}\n",
        "new_list = [1,2,3,4]\n",
        "numpy_array = np.array(new_list)\n",
        "print(\"\\n Numpy array from list: \\n\", numpy_array)\n"
      ],
      "metadata": {
        "colab": {
          "base_uri": "https://localhost:8080/"
        },
        "id": "7XLUrYcTJanb",
        "outputId": "52bd91d4-07be-4ac2-d30e-3550ec9dbf5f"
      },
      "execution_count": 7,
      "outputs": [
        {
          "output_type": "stream",
          "name": "stdout",
          "text": [
            "Empty Array (2*2):\n",
            " [[0. 0.]\n",
            " [0. 0.]]\n",
            "\n",
            " All ones (4*2): \n",
            " [[1. 1.]\n",
            " [1. 1.]\n",
            " [1. 1.]\n",
            " [1. 1.]]\n",
            "\n",
            " Array filled Array (3*3): \n",
            " [[3 3 3]\n",
            " [3 3 3]\n",
            " [3 3 3]]\n",
            "\n",
            " array of zeros with same shape and type as a given array : \n",
            " [[0 0]\n",
            " [0 0]]\n",
            "\n",
            " array of ones with same shape and type as a given array : \n",
            " [[1 1]\n",
            " [1 1]]\n",
            "\n",
            " Numpy array from list: \n",
            " [1 2 3 4]\n"
          ]
        }
      ]
    },
    {
      "cell_type": "markdown",
      "source": [
        "Problem - 2: Array Manipulation: Numerical Ranges and Array indexing:"
      ],
      "metadata": {
        "id": "yq8vURj7O5Bt"
      }
    },
    {
      "cell_type": "code",
      "source": [
        "import numpy as np\n",
        "# 1. Create an array with values ranging from 10 to 49. {Hint:np.arrange()}.\n",
        "array_10_to_49 = np.arange(10,50)\n",
        "print(\"Array with value ranging from 10 to 49 :\\n\", array_10_to_49)\n",
        "\n",
        "# 2. Create a 3X3 matrix with values ranging from 0 to 8.{Hint:look for np.reshape()}\n",
        "matrix = np.arange(9).reshape(3,3)\n",
        "print(\"\\n 3*3 matrix with values ranging from 0 to 8 is :\\n \",matrix)\n",
        "\n",
        "# 3. Create a 3X3 identity matrix.{Hint:np.eye()}\n",
        "identity_matrix = np.eye(3,3)\n",
        "print(\"\\n 3*3 identity matrix is : \\n\",identity_matrix)\n",
        "# 4. Create a random array of size 30 and find the mean of the array. {Hint:check for np.random.random() and array.mean() function}\n",
        "random_array = np.random.random(30)\n",
        "mean_value = random_array.mean()\n",
        "print(\"\\n Random array of size 30 is : \\n\",random_array)\n",
        "print(\"\\n the mean of the array is : \\n\",mean_value)\n",
        "\n",
        "# 5. Create a 10X10 array with random values and find the minimum and maximum values.\n",
        "random_array_10 = np.random.random(10)\n",
        "min_value = random_array_10.min()\n",
        "max_value = random_array_10.max()\n",
        "print(\"\\n Random array of size 10*10 is : \\n\",random_array_10)\n",
        "print(\"Minimum Value:\", min_value)\n",
        "print(\"Maximum Value:\", max_value)\n",
        "\n",
        "# 6. Create a zero array of size 10 and replace 5th element with 1.\n",
        "Zero_array = np.zeros(10)\n",
        "Zero_array[4] = 1\n",
        "print(\"\\n Zero array of size 10 is : \\n\",Zero_array)\n",
        "\n",
        "# 7. Reverse an array arr = [1,2,0,0,4,0].\n",
        "array = np.array([1,2,0,0,4,0])\n",
        "reversed_array = array[::-1]\n",
        "print(\"\\n Reversed array is : \\n\",reversed_array)\n",
        "\n",
        "# 8. Create a 2d array with 1 on border and 0 inside.\n",
        "border_array = np.ones((5, 5))\n",
        "border_array[1:-1, 1:-1] = 0\n",
        "print(\"\\n 2d array with 1 on border and 0 inside is : \\n\",border_array)\n",
        "\n",
        "# 9. Create a 8X8 matrix and fill it with a checkerboard pattern.\n",
        "checkerboard = np.zeros((8, 8), dtype=int)\n",
        "checkerboard[1::2, ::2] = 1\n",
        "checkerboard[::2, 1::2] = 1\n",
        "print(\"\\n8x8 Checkerboard Pattern:\\n\", checkerboard)"
      ],
      "metadata": {
        "colab": {
          "base_uri": "https://localhost:8080/"
        },
        "id": "TVEeLkuRKtyu",
        "outputId": "afb9331b-ff7b-4e37-a75d-133f1a86c8be"
      },
      "execution_count": 29,
      "outputs": [
        {
          "output_type": "stream",
          "name": "stdout",
          "text": [
            "Array with value ranging from 10 to 49 :\n",
            " [10 11 12 13 14 15 16 17 18 19 20 21 22 23 24 25 26 27 28 29 30 31 32 33\n",
            " 34 35 36 37 38 39 40 41 42 43 44 45 46 47 48 49]\n",
            "\n",
            " 3*3 matrix with values ranging from 0 to 8 is :\n",
            "  [[0 1 2]\n",
            " [3 4 5]\n",
            " [6 7 8]]\n",
            "\n",
            " 3*3 identity matrix is : \n",
            " [[1. 0. 0.]\n",
            " [0. 1. 0.]\n",
            " [0. 0. 1.]]\n",
            "\n",
            " Random array of size 30 is : \n",
            " [0.30659969 0.48364332 0.44099243 0.03805778 0.10176027 0.28732327\n",
            " 0.22652966 0.46855294 0.67364498 0.49140625 0.57561051 0.29768226\n",
            " 0.65145879 0.937299   0.5152391  0.29537663 0.07856759 0.51964232\n",
            " 0.42527769 0.14791428 0.92495137 0.06452608 0.33620809 0.08966642\n",
            " 0.81600447 0.50309616 0.30283435 0.85291957 0.08096525 0.2497921 ]\n",
            "\n",
            " the mean of the array is : \n",
            " 0.40611808677804223\n",
            "\n",
            " Random array of size 10*10 is : \n",
            " [0.30175541 0.98165593 0.35596178 0.85387007 0.77242122 0.59326163\n",
            " 0.57247797 0.22967091 0.67163056 0.55891723]\n",
            "Minimum Value: 0.2296709102757235\n",
            "Maximum Value: 0.9816559257117028\n",
            "\n",
            " Zero array of size 10 is : \n",
            " [0. 0. 0. 0. 1. 0. 0. 0. 0. 0.]\n",
            "\n",
            " Reversed array is : \n",
            " [0 4 0 0 2 1]\n",
            "\n",
            " 2d array with 1 on border and 0 inside is : \n",
            " [[1. 1. 1. 1. 1.]\n",
            " [1. 0. 0. 0. 1.]\n",
            " [1. 0. 0. 0. 1.]\n",
            " [1. 0. 0. 0. 1.]\n",
            " [1. 1. 1. 1. 1.]]\n",
            "\n",
            "8x8 Checkerboard Pattern:\n",
            " [[0 1 0 1 0 1 0 1]\n",
            " [1 0 1 0 1 0 1 0]\n",
            " [0 1 0 1 0 1 0 1]\n",
            " [1 0 1 0 1 0 1 0]\n",
            " [0 1 0 1 0 1 0 1]\n",
            " [1 0 1 0 1 0 1 0]\n",
            " [0 1 0 1 0 1 0 1]\n",
            " [1 0 1 0 1 0 1 0]]\n"
          ]
        }
      ]
    },
    {
      "cell_type": "markdown",
      "source": [
        "Problem - 3: Array Operations:"
      ],
      "metadata": {
        "id": "l25S9wRhXglt"
      }
    },
    {
      "cell_type": "code",
      "source": [
        "import numpy as np\n",
        "x = np.array([[1,2],[3,5]])\n",
        "y = np.array([[5,6],[7,8]]);\n",
        "v = np.array([9,10])\n",
        "w = np.array([11,12]);\n",
        "\n",
        "# 1. Add the two array.\n",
        "Add_array = x + y\n",
        "print(\"The addition between two are is :\",Add_array)\n",
        "\n",
        "# 2. Subtract the two array.\n",
        "Sub_array = x - y\n",
        "print(\"The subtraction between two are is :\",Sub_array)\n",
        "\n",
        "# 3. Multiply the array with any integers of your choice.\n",
        "Input = int(input(\"Enter the number : \"))\n",
        "Mul_array = x * Input\n",
        "print(\"The multiplication between two are is :\",Mul_array)\n",
        "\n",
        "# 4. Find the square of each element of the array.\n",
        "Square_array = np.square(x)\n",
        "print(\"The square of each element of the array is :\",Square_array)\n",
        "\n",
        "# 5. Find the dot product between: v(and)w ; x(and)v ; x(and)y.\n",
        "dot_vw = np.dot(v,w)\n",
        "dot_xv = np.dot(x,v)\n",
        "dot_xy = np.dot(x,y)\n",
        "print(\"The dot product between v and w is :\",dot_vw)\n",
        "print(\"The dot product between x and v is :\",dot_xv)\n",
        "print(\"The dot product between x and y is :\",dot_xy)\n",
        "\n",
        "# 6. Concatenate x(and)y along row and Concatenate v(and)w along column.\n",
        "# {Hint:try np.concatenate() or np.vstack() functions.\n",
        "Concatenate_xy = np.concatenate((x,y),axis = 0)\n",
        "Concatenate_vw = np.vstack((v,w)).T\n",
        "print(\"Concatenate x and y along row is :\",Concatenate_xy)\n",
        "print(\"Concatenate v and w along column is :\",Concatenate_vw)\n",
        "# 7. Concatenate x(and)v; if you get an error, observe and explain why did you get the error?\n",
        "try:\n",
        "  Concatenate_xv = np.concatenate((x,v),axis = 0)\n",
        "  print(\"Concatenate x and v is :\",Concatenate_xv)\n",
        "except ValueError as e:\n",
        "  print(\"\\nError when concatenating x and v:\\n\", e)\n",
        "  print(\"Explanation: x is a 2D array of shape (2, 2), while v is a 1D array of shape (2,). \"\n",
        "      \"To concatenate, both arrays must have the same dimensions along the axis of concatenation.\")\n",
        ""
      ],
      "metadata": {
        "colab": {
          "base_uri": "https://localhost:8080/"
        },
        "id": "SQ9_OirMPgjE",
        "outputId": "a80bdb9e-9f38-4bfa-bc15-92eada4dca57"
      },
      "execution_count": 37,
      "outputs": [
        {
          "output_type": "stream",
          "name": "stdout",
          "text": [
            "The addition between two are is : [[ 6  8]\n",
            " [10 13]]\n",
            "The subtraction between two are is : [[-4 -4]\n",
            " [-4 -3]]\n",
            "Enter the number : 4\n",
            "The multiplication between two are is : [[ 4  8]\n",
            " [12 20]]\n",
            "The square of each element of the array is : [[ 1  4]\n",
            " [ 9 25]]\n",
            "The dot product between v and w is : 219\n",
            "The dot product between x and v is : [29 77]\n",
            "The dot product between x and y is : [[19 22]\n",
            " [50 58]]\n",
            "Concatenate x and y along row is : [[1 2]\n",
            " [3 5]\n",
            " [5 6]\n",
            " [7 8]]\n",
            "Concatenate v and w along column is : [[ 9 11]\n",
            " [10 12]]\n",
            "\n",
            "Error when concatenating x and v:\n",
            " all the input arrays must have same number of dimensions, but the array at index 0 has 2 dimension(s) and the array at index 1 has 1 dimension(s)\n",
            "Explanation: x is a 2D array of shape (2, 2), while v is a 1D array of shape (2,). To concatenate, both arrays must have the same dimensions along the axis of concatenation.\n"
          ]
        }
      ]
    },
    {
      "cell_type": "markdown",
      "source": [
        "Problem - 4: Matrix Operations:\n"
      ],
      "metadata": {
        "id": "0dHads0ZdANo"
      }
    },
    {
      "cell_type": "code",
      "source": [
        "A = np.array([[3,4],[7,8]])\n",
        "B = np.array([[5,3],[2,1]])\n",
        "\n",
        "# 1. Prove A.A^−1 = I.\n",
        "A_inv = np.linalg.inv(A)  #for calculating inverse of A\n",
        "result = np.dot(A, A_inv)\n",
        "identity  = np.eye(A.shape[0]) # identity matrix with same size as A\n",
        "print(\"A.A^-1 is :\\n\",result)\n",
        "print(\"\\n I is :\\n\",identity)\n",
        "print(\"A * A^-1 = I : \",np.allclose(result, identity))\n",
        "\n",
        "\n",
        "# 2. Prove AB ̸= BA.\n",
        "AB = np.dot(A, B)\n",
        "BA = np.dot(B, A)\n",
        "print(\"\\n AB is :\\n\",AB)\n",
        "print(\"\\n BA is :\\n\",BA)\n",
        "print(\"\\nAB = BA :\\n \",np.allclose(AB, BA))\n",
        "\n",
        "# 3. Prove (AB)^T = B^T A^T.\n",
        "AB_transpose = np.transpose(AB)\n",
        "B_transpose = np.transpose(B)\n",
        "A_transpose = np.transpose(A)\n",
        "B_transpose_A_transpose = np.dot(B_transpose, A_transpose)\n",
        "print(\"\\n AB^T is :\\n\",AB_transpose)\n",
        "print(\"\\n B^T A^T is :\\n\",B_transpose_A_transpose)\n",
        "print(\"\\n AB^T = B^T A^T : \",np.allclose(AB_transpose, B_transpose_A_transpose))\n",
        "\n",
        "\n",
        "# 4. Solve the following system of Linear equation using Inverse Methods.\n",
        "\n",
        "# Coefficient matrix (A) and constant matrix (B)\n",
        "A = np.array([[2, -3, 1], [1, -1, 2], [3, 1, -1]])\n",
        "B = np.array([-1, -3, 9])\n",
        "A_inv = np.linalg.inv(A)\n",
        "X = np.dot(A_inv, B)\n",
        "\n",
        "print(\"\\nSolution for the system of equations:\")\n",
        "print(\"x =\", X[0])\n",
        "print(\"y =\", X[1])\n",
        "print(\"z =\", X[2])\n",
        "\n",
        "\n"
      ],
      "metadata": {
        "colab": {
          "base_uri": "https://localhost:8080/"
        },
        "id": "pHX5fq8TY20d",
        "outputId": "55434445-31c2-426c-fc61-2ced05a2cbb4"
      },
      "execution_count": 46,
      "outputs": [
        {
          "output_type": "stream",
          "name": "stdout",
          "text": [
            "A.A^-1 is :\n",
            " [[1.00000000e+00 0.00000000e+00]\n",
            " [1.77635684e-15 1.00000000e+00]]\n",
            "\n",
            " I is :\n",
            " [[1. 0.]\n",
            " [0. 1.]]\n",
            "A * A^-1 = I :  True\n",
            "\n",
            " AB is :\n",
            " [[23 13]\n",
            " [51 29]]\n",
            "\n",
            " BA is :\n",
            " [[36 44]\n",
            " [13 16]]\n",
            "\n",
            "AB = BA :\n",
            "  False\n",
            "\n",
            " AB^T is :\n",
            " [[23 51]\n",
            " [13 29]]\n",
            "\n",
            " B^T A^T is :\n",
            " [[23 51]\n",
            " [13 29]]\n",
            "\n",
            " AB^T = B^T A^T :  True\n",
            "\n",
            "Solution for the system of equations:\n",
            "x = 2.0\n",
            "y = 1.0\n",
            "z = -2.0\n"
          ]
        }
      ]
    },
    {
      "cell_type": "code",
      "source": [],
      "metadata": {
        "id": "wd8Y9Lz6gbUS"
      },
      "execution_count": null,
      "outputs": []
    }
  ]
}